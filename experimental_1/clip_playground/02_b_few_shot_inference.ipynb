{
 "cells": [
  {
   "cell_type": "markdown",
   "id": "c78c395a",
   "metadata": {},
   "source": [
    "# Inference on the Best Model\n",
    "\n",
    "This is a self-contained notebook that shows how to download and run CLIP models, to run the fine-tuned model for inferencing on test part of the few-shot learning dataset, in order to investigate the few-shot performance capabilities against base model.  "
   ]
  },
  {
   "cell_type": "markdown",
   "id": "739628a8",
   "metadata": {},
   "source": [
    "## Preparation for Colab\n",
    "\n",
    "Make sure you're running a GPU runtime; if not, select \"GPU\" as the hardware accelerator in Runtime > Change Runtime Type in the menu. The next cells will install the `clip` package and its dependencies, and check if PyTorch 1.7.1 or later is installed."
   ]
  },
  {
   "cell_type": "code",
   "execution_count": null,
   "id": "09233627",
   "metadata": {},
   "outputs": [],
   "source": [
    "#!pip install scikit-learn-intelex\n",
    "! pip install optuna\n",
    "! pip install ftfy regex tqdm optuna\n",
    "! pip install git+https://github.com/ridvansalihkuzu/CLIP.git"
   ]
  },
  {
   "cell_type": "code",
   "execution_count": 3,
   "id": "a53cead1",
   "metadata": {},
   "outputs": [],
   "source": [
    "import os\n",
    "import clip\n",
    "import torch\n",
    "\n",
    "import numpy as np\n",
    "from torch.utils.data import DataLoader\n",
    "from torchvision.datasets import ImageFolder\n",
    "from tqdm import tqdm\n",
    "from collections import Counter\n",
    "\n",
    "#from sklearnex import patch_sklearn\n",
    "#patch_sklearn()\n",
    "from sklearn.linear_model import LogisticRegression\n",
    "from sklearn.model_selection import cross_validate\n",
    "from sklearn.metrics import classification_report,confusion_matrix, ConfusionMatrixDisplay\n",
    "import pandas as pd\n",
    "import matplotlib.pyplot as plt\n",
    "from clip.downstream_task import TaskType \n",
    "import optuna\n",
    "from optuna.samplers import TPESampler\n",
    "\n",
    "%matplotlib inline"
   ]
  },
  {
   "cell_type": "markdown",
   "id": "be761f5c",
   "metadata": {},
   "source": [
    "## Loading the Model\n",
    "\n",
    "`clip.available_models()` will list the names of available CLIP models."
   ]
  },
  {
   "cell_type": "code",
   "execution_count": 4,
   "id": "207bc273",
   "metadata": {},
   "outputs": [
    {
     "data": {
      "text/plain": [
       "['RN50',\n",
       " 'RN101',\n",
       " 'RN50x4',\n",
       " 'RN50x16',\n",
       " 'RN50x64',\n",
       " 'ViT-B/32',\n",
       " 'ViT-B/16',\n",
       " 'ViT-L/14',\n",
       " 'ViT-L/14@336px']"
      ]
     },
     "execution_count": 4,
     "metadata": {},
     "output_type": "execute_result"
    }
   ],
   "source": [
    "available_models=clip.available_models()\n",
    "available_models"
   ]
  },
  {
   "cell_type": "markdown",
   "id": "6792dce2-dcb0-4e7a-ad95-9e28f760847b",
   "metadata": {},
   "source": [
    "The best performed pretrained model was `ViT-L/14` in the initial investigation at [01_a_clip_linear_probe_evaluation.ipynb](https://github.com/ridvansalihkuzu/CLIP/blob/main/01_a_clip_linear_probe_evaluation.ipynb).\n",
    "\n",
    "Later, this `ViT-L/14` model has been fine-tuned as seen in [02_a_few_shot_training.py](https://github.com/ridvansalihkuzu/CLIP/blob/main/02_a_few_shot_training.py). \n",
    "\n",
    "You can download [the fine-tuned model](https://dl.dropboxusercontent.com/s/4ozx28ovrfc8t1z/selected_model_best.pth.tar?dl=0) and the replace the `best_model_path` below with your download location."
   ]
  },
  {
   "cell_type": "code",
   "execution_count": 23,
   "id": "8a3509f5",
   "metadata": {},
   "outputs": [],
   "source": [
    "device = \"cuda\" if torch.cuda.is_available() else \"cpu\"\n",
    "#best_model_path='logs/selected_0.0001_-2_ARC_MLP_HEAD_model.pth.tar'\n",
    "#best_model_path='logs/_0.00025_-1_ARC_MLP_HEAD_13_model_best.pth.tar'\n",
    "best_model_path='logs/selected_model_best.pth.tar'\n",
    "\n",
    "\n",
    "if os.path.exists(best_model_path):\n",
    "    model, transform = clip.load(best_model_path,device,downstream_task=TaskType.ARC_MLP_HEAD,class_num=8)\n",
    "else:\n",
    "    print('WARNING: InFerence requires a fine-tuned model with few-shot learning!')"
   ]
  },
  {
   "cell_type": "markdown",
   "id": "098e5859",
   "metadata": {},
   "source": [
    "## Loading the Data\n",
    "\n",
    "Training and test data are loaded and their distribution over classes is observed below:"
   ]
  },
  {
   "cell_type": "code",
   "execution_count": 16,
   "id": "11dd45fc",
   "metadata": {},
   "outputs": [
    {
     "name": "stdout",
     "output_type": "stream",
     "text": [
      "[INFO] Loading the training and test dataset...\n",
      "[INFO] Training dataset contains 234 samples.\n",
      "[INFO] Test dataset contains 503 samples.\n"
     ]
    }
   ],
   "source": [
    "print(\"[INFO] Loading the training and test dataset...\")\n",
    "train_data_root='data/coco_crops_few_shot/train'\n",
    "test_data_root='data/coco_crops_few_shot/test'\n",
    "\n",
    "train_dataset = ImageFolder(root=train_data_root,transform=transform)\n",
    "test_dataset = ImageFolder(root=test_data_root,transform=transform)\n",
    "print(\"[INFO] Training dataset contains {} samples.\".format(len(train_dataset)))\n",
    "print(\"[INFO] Test dataset contains {} samples.\".format(len(test_dataset)))"
   ]
  },
  {
   "cell_type": "markdown",
   "id": "0fffba54",
   "metadata": {},
   "source": [
    "## Inferencing\n",
    "\n",
    "By using `encode_image` function of the CLIP model, the train and test features are extracted as shown below, and using `project_image` function, those features are converted to class logits:"
   ]
  },
  {
   "cell_type": "code",
   "execution_count": 17,
   "id": "712795c4",
   "metadata": {},
   "outputs": [],
   "source": [
    "def get_projections(dataset, model, batch_size=32):\n",
    "    '''\n",
    "        THIS FUNCTION EXTRACTS THE LOGITS OF GIVEN IMAGES BY USING ENCODE_IMAGE AND PROJECT_IMAGE METHODS\n",
    "        :param dataset: dataset object in ImageFolder type\n",
    "        :param model: CLIP model to be exploited for feature extraction and output projection\n",
    "        :param batch_size: the size of each batches in data reading\n",
    "        :return: returns the tuple of (extracted logit projections, labels)\n",
    "    '''\n",
    "\n",
    "    all_projections = []\n",
    "    all_labels = []\n",
    "    \n",
    "    with torch.no_grad():\n",
    "        for images, labels in tqdm(DataLoader(dataset, batch_size=32)):\n",
    "            features = model.encode_image(images.to(device))\n",
    "            projections = model.project_image(features)\n",
    "            projections = torch.argmax(projections, dim=-1)\n",
    "\n",
    "            all_projections.append(projections)\n",
    "            all_labels.append(labels)\n",
    "\n",
    "    return torch.cat(all_projections).cpu().numpy(), torch.cat(all_labels).cpu().numpy()"
   ]
  },
  {
   "cell_type": "code",
   "execution_count": 18,
   "id": "7dcb5a7f",
   "metadata": {},
   "outputs": [
    {
     "name": "stderr",
     "output_type": "stream",
     "text": [
      "  0%|          | 0/16 [00:00<?, ?it/s]/p/project/hai_eagles/kuzu/CLIP/clip/headers.py:88: UserWarning: Implicit dimension choice for softmax has been deprecated. Change the call to include dim=X as an argument.\n",
      "  X = self.act2(X)\n",
      "100%|██████████| 16/16 [04:46<00:00, 17.92s/it]\n"
     ]
    }
   ],
   "source": [
    "# Extract the image features\n",
    "#train_pred, y_train = get_projections(train_dataset,model)\n",
    "test_pred, y_test = get_projections(test_dataset,model)\n",
    "\n"
   ]
  },
  {
   "cell_type": "markdown",
   "id": "68d548e8",
   "metadata": {},
   "source": [
    "## Testing Models and Observing Performance Metrics\n",
    "\n",
    "The precision, recall and F1-scores have been calculated on the test set. The main reason to choose those metrics was that: standard accuracy might be a misleading metrics in case of having an unbalanced dataset."
   ]
  },
  {
   "cell_type": "code",
   "execution_count": 20,
   "id": "8565bfed",
   "metadata": {},
   "outputs": [
    {
     "name": "stdout",
     "output_type": "stream",
     "text": [
      "              precision    recall  f1-score   support\n",
      "\n",
      "    airplane       0.97      1.00      0.98        60\n",
      "     bicycle       0.96      1.00      0.98        46\n",
      "        boat       1.00      0.97      0.99        79\n",
      "         bus       0.96      0.94      0.95        69\n",
      "         car       0.87      0.70      0.78        47\n",
      "  motorcycle       0.96      0.98      0.97        54\n",
      "       train       0.98      0.97      0.98        67\n",
      "       truck       0.82      0.90      0.86        81\n",
      "\n",
      "    accuracy                           0.94       503\n",
      "   macro avg       0.94      0.93      0.94       503\n",
      "weighted avg       0.94      0.94      0.94       503\n",
      "\n"
     ]
    }
   ],
   "source": [
    "\n",
    "report=classification_report(y_test, test_pred, target_names=test_dataset.classes)\n",
    "print(report)\n"
   ]
  },
  {
   "cell_type": "code",
   "execution_count": 21,
   "id": "20a3acbc",
   "metadata": {},
   "outputs": [
    {
     "data": {
      "text/plain": [
       "<sklearn.metrics._plot.confusion_matrix.ConfusionMatrixDisplay at 0x7f0d61da7550>"
      ]
     },
     "execution_count": 21,
     "metadata": {},
     "output_type": "execute_result"
    },
    {
     "data": {
      "image/png": "[encoded data removed]",
      "text/plain": [
       "<Figure size 648x576 with 2 Axes>"
      ]
     },
     "metadata": {
      "needs_background": "light"
     },
     "output_type": "display_data"
    }
   ],
   "source": [
    "fig, ax = plt.subplots(figsize=(9,8))\n",
    "cm = confusion_matrix(y_test, test_pred,normalize='true')\n",
    "disp = ConfusionMatrixDisplay(confusion_matrix=cm, display_labels=test_dataset.classes)\n",
    "ax.set_title(\"Confusion Matrix\",fontsize=18)\n",
    "disp.plot(xticks_rotation='vertical',ax=ax)\n",
    "#fig.savefig('confusion_matrix.jpg')"
   ]
  },
  {
   "cell_type": "code",
   "execution_count": null,
   "id": "6d34b405-b5ea-4467-83b8-06f4b376e256",
   "metadata": {},
   "outputs": [],
   "source": []
  }
 ],
 "metadata": {
  "kernelspec": {
   "display_name": "Python 3 (ipykernel)",
   "language": "python",
   "name": "python3"
  },
  "language_info": {
   "codemirror_mode": {
    "name": "ipython",
    "version": 3
   },
   "file_extension": ".py",
   "mimetype": "text/x-python",
   "name": "python",
   "nbconvert_exporter": "python",
   "pygments_lexer": "ipython3",
   "version": "3.8.12"
  }
 },
 "nbformat": 4,
 "nbformat_minor": 5
}
